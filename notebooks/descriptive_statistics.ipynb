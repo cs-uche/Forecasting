{
 "cells": [
  {
   "cell_type": "markdown",
   "metadata": {},
   "source": [
    "# Descriptive Statistics"
   ]
  },
  {
   "cell_type": "markdown",
   "metadata": {},
   "source": [
    "## Setup"
   ]
  },
  {
   "cell_type": "code",
   "execution_count": 1,
   "metadata": {},
   "outputs": [],
   "source": [
    "# %pip install -r ./requirements.txt"
   ]
  },
  {
   "cell_type": "code",
   "execution_count": 2,
   "metadata": {},
   "outputs": [],
   "source": [
    "from datetime import date\n",
    "import numpy as np\n",
    "\n",
    "import opendatasets as od\n",
    "import os\n",
    "import pandas as pd\n",
    "import seaborn as sns\n",
    "\n",
    "import plotly.express as px\n",
    "import matplotlib.pyplot as plt\n"
   ]
  },
  {
   "cell_type": "code",
   "execution_count": 3,
   "metadata": {},
   "outputs": [],
   "source": [
    "def get_dataTypes_and_missingValues(df):\n",
    "    info = pd.DataFrame()\n",
    "    info['data_types'] =  df.dtypes\n",
    "    info['unique_values'] = df.nunique()\n",
    "    info['missing_values'] = df.isna().sum()\n",
    "    return info"
   ]
  },
  {
   "cell_type": "markdown",
   "metadata": {},
   "source": [
    "## Data Overview and Summary Statistics"
   ]
  },
  {
   "cell_type": "code",
   "execution_count": 4,
   "metadata": {},
   "outputs": [
    {
     "name": "stdout",
     "output_type": "stream",
     "text": [
      "Help on function download in module opendatasets:\n",
      "\n",
      "download(dataset_id_or_url, data_dir='.', force=False, dry_run=False, **kwargs)\n",
      "\n"
     ]
    }
   ],
   "source": [
    "help(od.download)"
   ]
  },
  {
   "cell_type": "code",
   "execution_count": 5,
   "metadata": {},
   "outputs": [
    {
     "name": "stdout",
     "output_type": "stream",
     "text": [
      "Skipping, found downloaded files in \"..\\data\\store-sales-time-series-forecasting\" (use force=True to force download)\n"
     ]
    }
   ],
   "source": [
    "url_path = \"https://www.kaggle.com/competitions/store-sales-time-series-forecasting\"\n",
    "od.download(url_path, os.path.join(\"..\",\"data\"))"
   ]
  },
  {
   "cell_type": "markdown",
   "metadata": {},
   "source": [
    "Let us take a look at the downloaded files"
   ]
  },
  {
   "cell_type": "code",
   "execution_count": 6,
   "metadata": {},
   "outputs": [
    {
     "name": "stdout",
     "output_type": "stream",
     "text": [
      "The files contained in the data directory are: \n",
      "\t holidays_events.csv\n",
      "\t oil.csv\n",
      "\t sample_submission.csv\n",
      "\t stores.csv\n",
      "\t test.csv\n",
      "\t train.csv\n",
      "\t transactions.csv\n"
     ]
    }
   ],
   "source": [
    "data_dir = os.path.join(\"..\",\"data\",\"store-sales-time-series-forecasting\")\n",
    "print(\"The files contained in the data directory are: \")\n",
    "for file in os.listdir(data_dir):\n",
    "    print(\"\\t\",file)"
   ]
  },
  {
   "cell_type": "markdown",
   "metadata": {},
   "source": [
    "We are interested in the training file."
   ]
  },
  {
   "cell_type": "code",
   "execution_count": 7,
   "metadata": {},
   "outputs": [
    {
     "name": "stdout",
     "output_type": "stream",
     "text": [
      "The data contains 3000888 rows and 6 columns\n"
     ]
    }
   ],
   "source": [
    "raw_df = pd.read_csv(os.path.join(data_dir, \"train.csv\"))\n",
    "print(f\"The data contains {raw_df.shape[0]} rows and {raw_df.shape[1]} columns\")"
   ]
  },
  {
   "cell_type": "markdown",
   "metadata": {},
   "source": [
    "Inspecting the training data further"
   ]
  },
  {
   "cell_type": "code",
   "execution_count": 8,
   "metadata": {},
   "outputs": [
    {
     "data": {
      "text/html": [
       "<div>\n",
       "<style scoped>\n",
       "    .dataframe tbody tr th:only-of-type {\n",
       "        vertical-align: middle;\n",
       "    }\n",
       "\n",
       "    .dataframe tbody tr th {\n",
       "        vertical-align: top;\n",
       "    }\n",
       "\n",
       "    .dataframe thead th {\n",
       "        text-align: right;\n",
       "    }\n",
       "</style>\n",
       "<table border=\"1\" class=\"dataframe\">\n",
       "  <thead>\n",
       "    <tr style=\"text-align: right;\">\n",
       "      <th></th>\n",
       "      <th>id</th>\n",
       "      <th>date</th>\n",
       "      <th>store_nbr</th>\n",
       "      <th>family</th>\n",
       "      <th>sales</th>\n",
       "      <th>onpromotion</th>\n",
       "    </tr>\n",
       "  </thead>\n",
       "  <tbody>\n",
       "    <tr>\n",
       "      <th>0</th>\n",
       "      <td>0</td>\n",
       "      <td>2013-01-01</td>\n",
       "      <td>1</td>\n",
       "      <td>AUTOMOTIVE</td>\n",
       "      <td>0.0</td>\n",
       "      <td>0</td>\n",
       "    </tr>\n",
       "    <tr>\n",
       "      <th>1</th>\n",
       "      <td>1</td>\n",
       "      <td>2013-01-01</td>\n",
       "      <td>1</td>\n",
       "      <td>BABY CARE</td>\n",
       "      <td>0.0</td>\n",
       "      <td>0</td>\n",
       "    </tr>\n",
       "    <tr>\n",
       "      <th>2</th>\n",
       "      <td>2</td>\n",
       "      <td>2013-01-01</td>\n",
       "      <td>1</td>\n",
       "      <td>BEAUTY</td>\n",
       "      <td>0.0</td>\n",
       "      <td>0</td>\n",
       "    </tr>\n",
       "    <tr>\n",
       "      <th>3</th>\n",
       "      <td>3</td>\n",
       "      <td>2013-01-01</td>\n",
       "      <td>1</td>\n",
       "      <td>BEVERAGES</td>\n",
       "      <td>0.0</td>\n",
       "      <td>0</td>\n",
       "    </tr>\n",
       "    <tr>\n",
       "      <th>4</th>\n",
       "      <td>4</td>\n",
       "      <td>2013-01-01</td>\n",
       "      <td>1</td>\n",
       "      <td>BOOKS</td>\n",
       "      <td>0.0</td>\n",
       "      <td>0</td>\n",
       "    </tr>\n",
       "  </tbody>\n",
       "</table>\n",
       "</div>"
      ],
      "text/plain": [
       "   id        date  store_nbr      family  sales  onpromotion\n",
       "0   0  2013-01-01          1  AUTOMOTIVE    0.0            0\n",
       "1   1  2013-01-01          1   BABY CARE    0.0            0\n",
       "2   2  2013-01-01          1      BEAUTY    0.0            0\n",
       "3   3  2013-01-01          1   BEVERAGES    0.0            0\n",
       "4   4  2013-01-01          1       BOOKS    0.0            0"
      ]
     },
     "execution_count": 8,
     "metadata": {},
     "output_type": "execute_result"
    }
   ],
   "source": [
    "raw_df.head()"
   ]
  },
  {
   "cell_type": "markdown",
   "metadata": {},
   "source": [
    "The data has a date attribute this could be an indication of it being time series. One more condition to verify that we have a time series data for this use case is that the period attribute needs to be continuous. "
   ]
  },
  {
   "cell_type": "code",
   "execution_count": 9,
   "metadata": {},
   "outputs": [
    {
     "data": {
      "text/html": [
       "<div>\n",
       "<style scoped>\n",
       "    .dataframe tbody tr th:only-of-type {\n",
       "        vertical-align: middle;\n",
       "    }\n",
       "\n",
       "    .dataframe tbody tr th {\n",
       "        vertical-align: top;\n",
       "    }\n",
       "\n",
       "    .dataframe thead th {\n",
       "        text-align: right;\n",
       "    }\n",
       "</style>\n",
       "<table border=\"1\" class=\"dataframe\">\n",
       "  <thead>\n",
       "    <tr style=\"text-align: right;\">\n",
       "      <th></th>\n",
       "      <th>data_types</th>\n",
       "      <th>unique_values</th>\n",
       "      <th>missing_values</th>\n",
       "    </tr>\n",
       "  </thead>\n",
       "  <tbody>\n",
       "    <tr>\n",
       "      <th>id</th>\n",
       "      <td>int64</td>\n",
       "      <td>3000888</td>\n",
       "      <td>0</td>\n",
       "    </tr>\n",
       "    <tr>\n",
       "      <th>date</th>\n",
       "      <td>object</td>\n",
       "      <td>1684</td>\n",
       "      <td>0</td>\n",
       "    </tr>\n",
       "    <tr>\n",
       "      <th>store_nbr</th>\n",
       "      <td>int64</td>\n",
       "      <td>54</td>\n",
       "      <td>0</td>\n",
       "    </tr>\n",
       "    <tr>\n",
       "      <th>family</th>\n",
       "      <td>object</td>\n",
       "      <td>33</td>\n",
       "      <td>0</td>\n",
       "    </tr>\n",
       "    <tr>\n",
       "      <th>sales</th>\n",
       "      <td>float64</td>\n",
       "      <td>379610</td>\n",
       "      <td>0</td>\n",
       "    </tr>\n",
       "    <tr>\n",
       "      <th>onpromotion</th>\n",
       "      <td>int64</td>\n",
       "      <td>362</td>\n",
       "      <td>0</td>\n",
       "    </tr>\n",
       "  </tbody>\n",
       "</table>\n",
       "</div>"
      ],
      "text/plain": [
       "            data_types  unique_values  missing_values\n",
       "id               int64        3000888               0\n",
       "date            object           1684               0\n",
       "store_nbr        int64             54               0\n",
       "family          object             33               0\n",
       "sales          float64         379610               0\n",
       "onpromotion      int64            362               0"
      ]
     },
     "execution_count": 9,
     "metadata": {},
     "output_type": "execute_result"
    }
   ],
   "source": [
    "get_dataTypes_and_missingValues(raw_df)"
   ]
  },
  {
   "cell_type": "markdown",
   "metadata": {},
   "source": [
    "We have 2 observations so far:\n",
    "1. The date column contains more than one date, making it continuous in this example(note slight difference from continuous and decrete data) and validating that this is a <i>Time Series Data</i>\n",
    "2. The id column contains unique identifiers of each observation and can be removed."
   ]
  },
  {
   "cell_type": "code",
   "execution_count": 10,
   "metadata": {},
   "outputs": [
    {
     "name": "stdout",
     "output_type": "stream",
     "text": [
      "The data contains 3,000,888 rows and 5 columns\n"
     ]
    }
   ],
   "source": [
    "raw_df.drop(\"id\", axis=1, inplace=True)\n",
    "print(f\"The data contains {raw_df.shape[0]:,} rows and {raw_df.shape[1]} columns\")"
   ]
  },
  {
   "cell_type": "markdown",
   "metadata": {},
   "source": [
    "### Date"
   ]
  },
  {
   "cell_type": "code",
   "execution_count": 11,
   "metadata": {},
   "outputs": [
    {
     "name": "stdout",
     "output_type": "stream",
     "text": [
      "The sales data ranges from 2013-01-01 - 2017-08-15\n"
     ]
    }
   ],
   "source": [
    "print(f\"The sales data ranges from {min(raw_df['date'])} - {max(raw_df['date'])}\")"
   ]
  },
  {
   "cell_type": "markdown",
   "metadata": {},
   "source": [
    "The sales data spans 4+ years and contains over 3 million observations."
   ]
  },
  {
   "cell_type": "markdown",
   "metadata": {},
   "source": [
    "Let us group the data by quarter"
   ]
  },
  {
   "cell_type": "code",
   "execution_count": 12,
   "metadata": {},
   "outputs": [],
   "source": [
    "agg_sale_by_nbr = raw_df.groupby(\"store_nbr\").agg({\"sales\":\"sum\"})"
   ]
  },
  {
   "cell_type": "markdown",
   "metadata": {},
   "source": [
    "To simplify our observation we consider the data for store 1."
   ]
  },
  {
   "cell_type": "code",
   "execution_count": 13,
   "metadata": {},
   "outputs": [
    {
     "data": {
      "text/html": [
       "<div>\n",
       "<style scoped>\n",
       "    .dataframe tbody tr th:only-of-type {\n",
       "        vertical-align: middle;\n",
       "    }\n",
       "\n",
       "    .dataframe tbody tr th {\n",
       "        vertical-align: top;\n",
       "    }\n",
       "\n",
       "    .dataframe thead th {\n",
       "        text-align: right;\n",
       "    }\n",
       "</style>\n",
       "<table border=\"1\" class=\"dataframe\">\n",
       "  <thead>\n",
       "    <tr style=\"text-align: right;\">\n",
       "      <th></th>\n",
       "      <th>data_types</th>\n",
       "      <th>unique_values</th>\n",
       "      <th>missing_values</th>\n",
       "    </tr>\n",
       "  </thead>\n",
       "  <tbody>\n",
       "    <tr>\n",
       "      <th>date</th>\n",
       "      <td>object</td>\n",
       "      <td>1684</td>\n",
       "      <td>0</td>\n",
       "    </tr>\n",
       "    <tr>\n",
       "      <th>store_nbr</th>\n",
       "      <td>int64</td>\n",
       "      <td>1</td>\n",
       "      <td>0</td>\n",
       "    </tr>\n",
       "    <tr>\n",
       "      <th>family</th>\n",
       "      <td>object</td>\n",
       "      <td>33</td>\n",
       "      <td>0</td>\n",
       "    </tr>\n",
       "    <tr>\n",
       "      <th>sales</th>\n",
       "      <td>float64</td>\n",
       "      <td>13668</td>\n",
       "      <td>0</td>\n",
       "    </tr>\n",
       "    <tr>\n",
       "      <th>onpromotion</th>\n",
       "      <td>int64</td>\n",
       "      <td>155</td>\n",
       "      <td>0</td>\n",
       "    </tr>\n",
       "  </tbody>\n",
       "</table>\n",
       "</div>"
      ],
      "text/plain": [
       "            data_types  unique_values  missing_values\n",
       "date            object           1684               0\n",
       "store_nbr        int64              1               0\n",
       "family          object             33               0\n",
       "sales          float64          13668               0\n",
       "onpromotion      int64            155               0"
      ]
     },
     "execution_count": 13,
     "metadata": {},
     "output_type": "execute_result"
    }
   ],
   "source": [
    "store1_raw_df = raw_df[raw_df[\"store_nbr\"] == 1]\n",
    "get_dataTypes_and_missingValues(store1_raw_df)"
   ]
  },
  {
   "cell_type": "markdown",
   "metadata": {},
   "source": [
    "We need to convert the data to the appropriate date type and we can set the date as the index"
   ]
  },
  {
   "cell_type": "code",
   "execution_count": 14,
   "metadata": {},
   "outputs": [],
   "source": [
    "store1_raw_df.loc[:, \"date\"] = pd.to_datetime(store1_raw_df[\"date\"])\n",
    "store1_raw_df.set_index(\"date\", inplace=True)"
   ]
  },
  {
   "cell_type": "code",
   "execution_count": 15,
   "metadata": {},
   "outputs": [
    {
     "data": {
      "text/html": [
       "<div>\n",
       "<style scoped>\n",
       "    .dataframe tbody tr th:only-of-type {\n",
       "        vertical-align: middle;\n",
       "    }\n",
       "\n",
       "    .dataframe tbody tr th {\n",
       "        vertical-align: top;\n",
       "    }\n",
       "\n",
       "    .dataframe thead th {\n",
       "        text-align: right;\n",
       "    }\n",
       "</style>\n",
       "<table border=\"1\" class=\"dataframe\">\n",
       "  <thead>\n",
       "    <tr style=\"text-align: right;\">\n",
       "      <th></th>\n",
       "      <th>store_nbr</th>\n",
       "      <th>family</th>\n",
       "      <th>sales</th>\n",
       "      <th>onpromotion</th>\n",
       "    </tr>\n",
       "    <tr>\n",
       "      <th>date</th>\n",
       "      <th></th>\n",
       "      <th></th>\n",
       "      <th></th>\n",
       "      <th></th>\n",
       "    </tr>\n",
       "  </thead>\n",
       "  <tbody>\n",
       "    <tr>\n",
       "      <th>2013-01-01</th>\n",
       "      <td>1</td>\n",
       "      <td>AUTOMOTIVE</td>\n",
       "      <td>0.000000</td>\n",
       "      <td>0</td>\n",
       "    </tr>\n",
       "    <tr>\n",
       "      <th>2013-01-01</th>\n",
       "      <td>1</td>\n",
       "      <td>BABY CARE</td>\n",
       "      <td>0.000000</td>\n",
       "      <td>0</td>\n",
       "    </tr>\n",
       "    <tr>\n",
       "      <th>2013-01-01</th>\n",
       "      <td>1</td>\n",
       "      <td>BEAUTY</td>\n",
       "      <td>0.000000</td>\n",
       "      <td>0</td>\n",
       "    </tr>\n",
       "    <tr>\n",
       "      <th>2013-01-01</th>\n",
       "      <td>1</td>\n",
       "      <td>BEVERAGES</td>\n",
       "      <td>0.000000</td>\n",
       "      <td>0</td>\n",
       "    </tr>\n",
       "    <tr>\n",
       "      <th>2013-01-01</th>\n",
       "      <td>1</td>\n",
       "      <td>BOOKS</td>\n",
       "      <td>0.000000</td>\n",
       "      <td>0</td>\n",
       "    </tr>\n",
       "    <tr>\n",
       "      <th>...</th>\n",
       "      <td>...</td>\n",
       "      <td>...</td>\n",
       "      <td>...</td>\n",
       "      <td>...</td>\n",
       "    </tr>\n",
       "    <tr>\n",
       "      <th>2017-08-15</th>\n",
       "      <td>1</td>\n",
       "      <td>POULTRY</td>\n",
       "      <td>234.892000</td>\n",
       "      <td>0</td>\n",
       "    </tr>\n",
       "    <tr>\n",
       "      <th>2017-08-15</th>\n",
       "      <td>1</td>\n",
       "      <td>PREPARED FOODS</td>\n",
       "      <td>42.822998</td>\n",
       "      <td>0</td>\n",
       "    </tr>\n",
       "    <tr>\n",
       "      <th>2017-08-15</th>\n",
       "      <td>1</td>\n",
       "      <td>PRODUCE</td>\n",
       "      <td>2240.230000</td>\n",
       "      <td>7</td>\n",
       "    </tr>\n",
       "    <tr>\n",
       "      <th>2017-08-15</th>\n",
       "      <td>1</td>\n",
       "      <td>SCHOOL AND OFFICE SUPPLIES</td>\n",
       "      <td>0.000000</td>\n",
       "      <td>0</td>\n",
       "    </tr>\n",
       "    <tr>\n",
       "      <th>2017-08-15</th>\n",
       "      <td>1</td>\n",
       "      <td>SEAFOOD</td>\n",
       "      <td>22.487000</td>\n",
       "      <td>0</td>\n",
       "    </tr>\n",
       "  </tbody>\n",
       "</table>\n",
       "<p>55572 rows × 4 columns</p>\n",
       "</div>"
      ],
      "text/plain": [
       "            store_nbr                      family        sales  onpromotion\n",
       "date                                                                       \n",
       "2013-01-01          1                  AUTOMOTIVE     0.000000            0\n",
       "2013-01-01          1                   BABY CARE     0.000000            0\n",
       "2013-01-01          1                      BEAUTY     0.000000            0\n",
       "2013-01-01          1                   BEVERAGES     0.000000            0\n",
       "2013-01-01          1                       BOOKS     0.000000            0\n",
       "...               ...                         ...          ...          ...\n",
       "2017-08-15          1                     POULTRY   234.892000            0\n",
       "2017-08-15          1              PREPARED FOODS    42.822998            0\n",
       "2017-08-15          1                     PRODUCE  2240.230000            7\n",
       "2017-08-15          1  SCHOOL AND OFFICE SUPPLIES     0.000000            0\n",
       "2017-08-15          1                     SEAFOOD    22.487000            0\n",
       "\n",
       "[55572 rows x 4 columns]"
      ]
     },
     "execution_count": 15,
     "metadata": {},
     "output_type": "execute_result"
    }
   ],
   "source": [
    "store1_raw_df"
   ]
  },
  {
   "cell_type": "markdown",
   "metadata": {},
   "source": [
    "We want to view the total sales for each quarter. To start off we aggregate the yearly sales data."
   ]
  },
  {
   "cell_type": "code",
   "execution_count": 16,
   "metadata": {},
   "outputs": [
    {
     "data": {
      "text/plain": [
       "date\n",
       "2013-12-31    1.894713e+06\n",
       "2014-12-31    2.899710e+06\n",
       "2015-12-31    3.120580e+06\n",
       "2016-12-31    3.793493e+06\n",
       "2017-12-31    2.436518e+06\n",
       "Freq: A-DEC, Name: sales, dtype: float64"
      ]
     },
     "execution_count": 16,
     "metadata": {},
     "output_type": "execute_result"
    }
   ],
   "source": [
    "agg_yearly_sales = store1_raw_df['sales'].resample('Y').sum()\n",
    "agg_yearly_sales"
   ]
  },
  {
   "cell_type": "code",
   "execution_count": 17,
   "metadata": {},
   "outputs": [
    {
     "name": "stderr",
     "output_type": "stream",
     "text": [
      "c:\\Users\\chiso\\anaconda3\\envs\\ml\\lib\\site-packages\\seaborn\\_oldcore.py:1119: FutureWarning: use_inf_as_na option is deprecated and will be removed in a future version. Convert inf values to NaN before operating instead.\n",
      "  with pd.option_context('mode.use_inf_as_na', True):\n",
      "c:\\Users\\chiso\\anaconda3\\envs\\ml\\lib\\site-packages\\seaborn\\_oldcore.py:1119: FutureWarning: use_inf_as_na option is deprecated and will be removed in a future version. Convert inf values to NaN before operating instead.\n",
      "  with pd.option_context('mode.use_inf_as_na', True):\n"
     ]
    },
    {
     "data": {
      "image/png": "[encoded data removed]",
      "text/plain": [
       "<Figure size 1200x600 with 1 Axes>"
      ]
     },
     "metadata": {},
     "output_type": "display_data"
    }
   ],
   "source": [
    "# Create a line plot with seaborn\n",
    "sns.set_style(\"whitegrid\")\n",
    "plt.figure(figsize=(12, 6))\n",
    "sns.lineplot(data=agg_yearly_sales)\n",
    "\n",
    "# Set x-axis ticks at each quarter\n",
    "quarters = pd.date_range(start=pd.Timestamp('2013-01'), end=agg_yearly_sales.index[-1], freq='Q')\n",
    "plt.xticks(ticks=quarters, labels=[f\"Q{1 + i%4}-{quarters[i].strftime('%Y')}\" for i in range(len(quarters))], rotation=45)\n",
    "\n",
    "# Set labels and title\n",
    "plt.xlabel('Year', fontsize=15)\n",
    "plt.ylabel('Aggregated Sales(in millions)', fontsize=15)\n",
    "plt.title('Store 1: Aggregated Sales by Year per Quarter', fontsize=20)\n",
    "\n",
    "# Show the plot\n",
    "plt.tight_layout()\n",
    "plt.show()"
   ]
  },
  {
   "cell_type": "markdown",
   "metadata": {},
   "source": [
    "The data for store 1 seems to peak in the fourth quarter of 2016.\n",
    "\n",
    "Next we reduce the granularity of the period and view data for a month, since this data spans 4 years we will look at the data for the January 2013."
   ]
  },
  {
   "cell_type": "code",
   "execution_count": 18,
   "metadata": {},
   "outputs": [
    {
     "data": {
      "text/html": [
       "<div>\n",
       "<style scoped>\n",
       "    .dataframe tbody tr th:only-of-type {\n",
       "        vertical-align: middle;\n",
       "    }\n",
       "\n",
       "    .dataframe tbody tr th {\n",
       "        vertical-align: top;\n",
       "    }\n",
       "\n",
       "    .dataframe thead th {\n",
       "        text-align: right;\n",
       "    }\n",
       "</style>\n",
       "<table border=\"1\" class=\"dataframe\">\n",
       "  <thead>\n",
       "    <tr style=\"text-align: right;\">\n",
       "      <th></th>\n",
       "      <th>sales</th>\n",
       "    </tr>\n",
       "    <tr>\n",
       "      <th>date</th>\n",
       "      <th></th>\n",
       "    </tr>\n",
       "  </thead>\n",
       "  <tbody>\n",
       "    <tr>\n",
       "      <th>2013-01-01</th>\n",
       "      <td>0.000000</td>\n",
       "    </tr>\n",
       "    <tr>\n",
       "      <th>2013-01-02</th>\n",
       "      <td>7417.148000</td>\n",
       "    </tr>\n",
       "    <tr>\n",
       "      <th>2013-01-03</th>\n",
       "      <td>5873.244001</td>\n",
       "    </tr>\n",
       "    <tr>\n",
       "      <th>2013-01-04</th>\n",
       "      <td>5919.879001</td>\n",
       "    </tr>\n",
       "    <tr>\n",
       "      <th>2013-01-05</th>\n",
       "      <td>6318.785010</td>\n",
       "    </tr>\n",
       "    <tr>\n",
       "      <th>2013-01-06</th>\n",
       "      <td>2199.087000</td>\n",
       "    </tr>\n",
       "    <tr>\n",
       "      <th>2013-01-07</th>\n",
       "      <td>6150.924000</td>\n",
       "    </tr>\n",
       "    <tr>\n",
       "      <th>2013-01-08</th>\n",
       "      <td>5597.181000</td>\n",
       "    </tr>\n",
       "    <tr>\n",
       "      <th>2013-01-09</th>\n",
       "      <td>6808.578990</td>\n",
       "    </tr>\n",
       "    <tr>\n",
       "      <th>2013-01-10</th>\n",
       "      <td>4757.715000</td>\n",
       "    </tr>\n",
       "    <tr>\n",
       "      <th>2013-01-11</th>\n",
       "      <td>5494.015980</td>\n",
       "    </tr>\n",
       "    <tr>\n",
       "      <th>2013-01-12</th>\n",
       "      <td>5467.782980</td>\n",
       "    </tr>\n",
       "    <tr>\n",
       "      <th>2013-01-13</th>\n",
       "      <td>2693.878004</td>\n",
       "    </tr>\n",
       "    <tr>\n",
       "      <th>2013-01-14</th>\n",
       "      <td>5651.685010</td>\n",
       "    </tr>\n",
       "    <tr>\n",
       "      <th>2013-01-15</th>\n",
       "      <td>5204.174000</td>\n",
       "    </tr>\n",
       "    <tr>\n",
       "      <th>2013-01-16</th>\n",
       "      <td>6733.596002</td>\n",
       "    </tr>\n",
       "    <tr>\n",
       "      <th>2013-01-17</th>\n",
       "      <td>4942.474000</td>\n",
       "    </tr>\n",
       "    <tr>\n",
       "      <th>2013-01-18</th>\n",
       "      <td>5923.124001</td>\n",
       "    </tr>\n",
       "    <tr>\n",
       "      <th>2013-01-19</th>\n",
       "      <td>5895.146000</td>\n",
       "    </tr>\n",
       "    <tr>\n",
       "      <th>2013-01-20</th>\n",
       "      <td>2371.133995</td>\n",
       "    </tr>\n",
       "    <tr>\n",
       "      <th>2013-01-21</th>\n",
       "      <td>5227.602020</td>\n",
       "    </tr>\n",
       "    <tr>\n",
       "      <th>2013-01-22</th>\n",
       "      <td>5298.986000</td>\n",
       "    </tr>\n",
       "    <tr>\n",
       "      <th>2013-01-23</th>\n",
       "      <td>6259.346000</td>\n",
       "    </tr>\n",
       "    <tr>\n",
       "      <th>2013-01-24</th>\n",
       "      <td>4861.524000</td>\n",
       "    </tr>\n",
       "    <tr>\n",
       "      <th>2013-01-25</th>\n",
       "      <td>5577.701000</td>\n",
       "    </tr>\n",
       "    <tr>\n",
       "      <th>2013-01-26</th>\n",
       "      <td>5290.327010</td>\n",
       "    </tr>\n",
       "    <tr>\n",
       "      <th>2013-01-27</th>\n",
       "      <td>2439.378000</td>\n",
       "    </tr>\n",
       "    <tr>\n",
       "      <th>2013-01-28</th>\n",
       "      <td>4976.808000</td>\n",
       "    </tr>\n",
       "    <tr>\n",
       "      <th>2013-01-29</th>\n",
       "      <td>4681.511000</td>\n",
       "    </tr>\n",
       "    <tr>\n",
       "      <th>2013-01-30</th>\n",
       "      <td>6118.887000</td>\n",
       "    </tr>\n",
       "    <tr>\n",
       "      <th>2013-01-31</th>\n",
       "      <td>4712.577000</td>\n",
       "    </tr>\n",
       "  </tbody>\n",
       "</table>\n",
       "</div>"
      ],
      "text/plain": [
       "                  sales\n",
       "date                   \n",
       "2013-01-01     0.000000\n",
       "2013-01-02  7417.148000\n",
       "2013-01-03  5873.244001\n",
       "2013-01-04  5919.879001\n",
       "2013-01-05  6318.785010\n",
       "2013-01-06  2199.087000\n",
       "2013-01-07  6150.924000\n",
       "2013-01-08  5597.181000\n",
       "2013-01-09  6808.578990\n",
       "2013-01-10  4757.715000\n",
       "2013-01-11  5494.015980\n",
       "2013-01-12  5467.782980\n",
       "2013-01-13  2693.878004\n",
       "2013-01-14  5651.685010\n",
       "2013-01-15  5204.174000\n",
       "2013-01-16  6733.596002\n",
       "2013-01-17  4942.474000\n",
       "2013-01-18  5923.124001\n",
       "2013-01-19  5895.146000\n",
       "2013-01-20  2371.133995\n",
       "2013-01-21  5227.602020\n",
       "2013-01-22  5298.986000\n",
       "2013-01-23  6259.346000\n",
       "2013-01-24  4861.524000\n",
       "2013-01-25  5577.701000\n",
       "2013-01-26  5290.327010\n",
       "2013-01-27  2439.378000\n",
       "2013-01-28  4976.808000\n",
       "2013-01-29  4681.511000\n",
       "2013-01-30  6118.887000\n",
       "2013-01-31  4712.577000"
      ]
     },
     "execution_count": 18,
     "metadata": {},
     "output_type": "execute_result"
    }
   ],
   "source": [
    "jan_sales = store1_raw_df.loc[pd.Timestamp('2013-01'):pd.Timestamp('2013-01-31')]\n",
    "agg_jan_sales = jan_sales.groupby(\"date\").agg({\"sales\":\"sum\"})\n",
    "agg_jan_sales = agg_jan_sales.replace([np.inf, -np.inf], np.nan)\n",
    "agg_jan_sales"
   ]
  },
  {
   "cell_type": "code",
   "execution_count": 19,
   "metadata": {},
   "outputs": [
    {
     "data": {
      "image/png": "[encoded data removed]",
      "text/plain": [
       "<Figure size 640x480 with 1 Axes>"
      ]
     },
     "metadata": {},
     "output_type": "display_data"
    }
   ],
   "source": [
    "plt.plot(agg_jan_sales.index, agg_jan_sales[\"sales\"])\n",
    "\n",
    "plt.title('Store 1: January 2013 Sales Trend', fontsize=20)\n",
    "plt.xlabel('Date', fontsize=15)\n",
    "plt.ylabel('Sales', fontsize=15)\n",
    "\n",
    "plt.xticks(rotation=45, fontsize=12)\n",
    "plt.tight_layout()\n",
    "plt.show()"
   ]
  },
  {
   "cell_type": "markdown",
   "metadata": {},
   "source": [
    "### Store Number"
   ]
  },
  {
   "cell_type": "markdown",
   "metadata": {},
   "source": [
    "There are multiple stores let us take a look into the store number statistics."
   ]
  },
  {
   "cell_type": "code",
   "execution_count": 20,
   "metadata": {},
   "outputs": [
    {
     "name": "stdout",
     "output_type": "stream",
     "text": [
      "There are exactly 54 stores in the data\n"
     ]
    }
   ],
   "source": [
    "print(f\"There are exactly {raw_df['store_nbr'].nunique()} stores in the data\")"
   ]
  },
  {
   "cell_type": "markdown",
   "metadata": {},
   "source": [
    "Let us visualize the distribution of the data for each store"
   ]
  },
  {
   "cell_type": "code",
   "execution_count": null,
   "metadata": {},
   "outputs": [],
   "source": []
  },
  {
   "cell_type": "markdown",
   "metadata": {},
   "source": [
    "### Family or Item Category"
   ]
  },
  {
   "cell_type": "code",
   "execution_count": 21,
   "metadata": {},
   "outputs": [
    {
     "name": "stdout",
     "output_type": "stream",
     "text": [
      "There are exactly 33 families/categories of retail products in the data\n"
     ]
    }
   ],
   "source": [
    "print(f\"There are exactly {raw_df['family'].nunique()} families/categories of retail products in the data\")"
   ]
  },
  {
   "cell_type": "code",
   "execution_count": null,
   "metadata": {},
   "outputs": [],
   "source": []
  },
  {
   "cell_type": "markdown",
   "metadata": {},
   "source": [
    "### Sales and Promotion"
   ]
  },
  {
   "cell_type": "code",
   "execution_count": 22,
   "metadata": {},
   "outputs": [
    {
     "data": {
      "text/plain": [
       "array([  0,   3,   5,   1,  56,  20,  19,   2,   4,  18,  17,  12,   6,\n",
       "         7,  10,   9,  50,   8,  16,  42,  51,  13,  15,  47,  21,  40,\n",
       "        37,  54,  24,  58,  22,  59,  11,  45,  25,  55,  26,  43,  35,\n",
       "        14,  28,  46,  36,  32,  53,  57,  27,  39,  41,  30,  29,  49,\n",
       "        23,  48,  44,  38,  31,  52,  33,  34,  61,  60, 116,  86,  73,\n",
       "       113, 102,  68, 104,  93,  70,  92, 121,  72, 178, 174, 161, 118,\n",
       "       105, 172, 163, 167, 142, 154, 133, 180, 181, 173, 165, 168, 186,\n",
       "       140, 149, 145, 169, 188,  62,  84, 111,  65, 107,  63, 101,  87,\n",
       "       125,  94, 114, 171, 153, 170, 166, 141, 155, 179, 192, 131, 147,\n",
       "       151, 189,  79,  74, 110,  64,  67,  99, 123, 157, 117, 150, 182,\n",
       "       162, 160, 194, 135, 190,  69, 108,  89, 126, 156, 103, 146, 132,\n",
       "       177, 164, 176, 112,  75, 109,  91, 128, 175, 187, 148, 137, 184,\n",
       "       196, 144, 158, 119, 106,  66, 100,  90, 120, 115,  98, 159, 152,\n",
       "       185, 139, 143,  80, 124,  71, 134, 193,  78,  88, 122, 130,  81,\n",
       "        97, 138, 191,  76,  96, 198,  82,  95, 195, 183, 199, 200, 201,\n",
       "       197,  77,  83, 136, 205, 204, 202, 129, 206,  85, 209, 211, 207,\n",
       "       208, 203, 210, 127, 213, 212, 218, 216, 217, 214, 222, 220, 223,\n",
       "       229, 225, 228, 224, 231, 215, 233, 230, 235, 227, 221, 226, 219,\n",
       "       289, 245, 609, 261, 322, 276, 710, 511, 326, 281, 718, 551, 304,\n",
       "       639, 489, 299, 243, 630, 476, 655, 446, 286, 633, 435, 302, 644,\n",
       "       470, 332, 259, 702, 520, 300, 241, 668, 510, 237, 626, 507, 317,\n",
       "       624, 474, 240, 672, 306, 600, 383, 293, 258, 646, 444, 333, 279,\n",
       "       717, 342, 720, 547, 305, 642, 452, 313, 252, 664, 481, 277, 307,\n",
       "       264, 684, 479, 255, 657, 441, 312, 269, 716, 528, 320, 285, 726,\n",
       "       536, 283, 628, 469, 464, 677, 420, 247, 629, 424, 290, 473, 294,\n",
       "       722, 485, 297, 282, 719, 543, 253, 254, 678, 496, 275, 741, 512,\n",
       "       236, 234, 244, 239, 238, 242, 232, 249, 250, 251, 391, 539, 411,\n",
       "       486, 407, 330, 697, 246, 467, 263, 591, 248, 519, 425], dtype=int64)"
      ]
     },
     "execution_count": 22,
     "metadata": {},
     "output_type": "execute_result"
    }
   ],
   "source": [
    "raw_df[\"onpromotion\"].unique()"
   ]
  },
  {
   "cell_type": "markdown",
   "metadata": {},
   "source": []
  },
  {
   "cell_type": "code",
   "execution_count": null,
   "metadata": {},
   "outputs": [],
   "source": []
  }
 ],
 "metadata": {
  "kernelspec": {
   "display_name": "ml",
   "language": "python",
   "name": "python3"
  },
  "language_info": {
   "codemirror_mode": {
    "name": "ipython",
    "version": 3
   },
   "file_extension": ".py",
   "mimetype": "text/x-python",
   "name": "python",
   "nbconvert_exporter": "python",
   "pygments_lexer": "ipython3",
   "version": "3.9.18"
  }
 },
 "nbformat": 4,
 "nbformat_minor": 2
}
