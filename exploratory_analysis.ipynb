{
 "cells": [
  {
   "cell_type": "markdown",
   "metadata": {},
   "source": [
    "# Exploratory Analysis"
   ]
  },
  {
   "cell_type": "markdown",
   "metadata": {},
   "source": [
    "## Setup"
   ]
  },
  {
   "cell_type": "code",
   "execution_count": 26,
   "metadata": {},
   "outputs": [],
   "source": [
    "# %pip install -r ./requirements.txt"
   ]
  },
  {
   "cell_type": "code",
   "execution_count": 27,
   "metadata": {},
   "outputs": [],
   "source": [
    "from datetime import date\n",
    "import numpy as np\n",
    "\n",
    "import opendatasets as od\n",
    "import os\n",
    "import pandas as pd\n",
    "import seaborn as sns\n",
    "\n",
    "import plotly.express as px\n",
    "import matplotlib.pyplot as plt\n"
   ]
  },
  {
   "cell_type": "code",
   "execution_count": 28,
   "metadata": {},
   "outputs": [],
   "source": [
    "def get_dataTypes_and_missingValues(df):\n",
    "    info = pd.DataFrame()\n",
    "    info['data_types'] =  df.dtypes\n",
    "    info['unique_values'] = df.nunique()\n",
    "    info['missing_values'] = df.isna().sum()\n",
    "    return info"
   ]
  },
  {
   "cell_type": "markdown",
   "metadata": {},
   "source": [
    "## Data Overview and Summary Statistics"
   ]
  },
  {
   "cell_type": "markdown",
   "metadata": {},
   "source": [
    "### Something"
   ]
  },
  {
   "cell_type": "code",
   "execution_count": 29,
   "metadata": {},
   "outputs": [
    {
     "name": "stdout",
     "output_type": "stream",
     "text": [
      "Help on function download in module opendatasets:\n",
      "\n",
      "download(dataset_id_or_url, data_dir='.', force=False, dry_run=False, **kwargs)\n",
      "\n"
     ]
    }
   ],
   "source": [
    "help(od.download)"
   ]
  },
  {
   "cell_type": "code",
   "execution_count": 30,
   "metadata": {},
   "outputs": [
    {
     "name": "stdout",
     "output_type": "stream",
     "text": [
      "Skipping, found downloaded files in \"data\\store-sales-time-series-forecasting\" (use force=True to force download)\n"
     ]
    }
   ],
   "source": [
    "url_path = \"https://www.kaggle.com/competitions/store-sales-time-series-forecasting\"\n",
    "od.download(url_path, \"data\")"
   ]
  },
  {
   "cell_type": "markdown",
   "metadata": {},
   "source": [
    "Let us take a look at the downloaded files"
   ]
  },
  {
   "cell_type": "code",
   "execution_count": 31,
   "metadata": {},
   "outputs": [
    {
     "name": "stdout",
     "output_type": "stream",
     "text": [
      "The files contained in the data directory are: \n",
      "\t holidays_events.csv\n",
      "\t oil.csv\n",
      "\t sample_submission.csv\n",
      "\t stores.csv\n",
      "\t test.csv\n",
      "\t train.csv\n",
      "\t transactions.csv\n"
     ]
    }
   ],
   "source": [
    "data_dir = os.path.join(\"data\",\"store-sales-time-series-forecasting\")\n",
    "print(\"The files contained in the data directory are: \")\n",
    "for file in os.listdir(data_dir):\n",
    "    print(\"\\t\",file)"
   ]
  },
  {
   "cell_type": "markdown",
   "metadata": {},
   "source": [
    "We are interested in the training file."
   ]
  },
  {
   "cell_type": "code",
   "execution_count": 32,
   "metadata": {},
   "outputs": [
    {
     "name": "stdout",
     "output_type": "stream",
     "text": [
      "The data contains 3000888 rows and 6 columns\n"
     ]
    }
   ],
   "source": [
    "raw_df = pd.read_csv(os.path.join(data_dir, \"train.csv\"))\n",
    "print(f\"The data contains {raw_df.shape[0]} rows and {raw_df.shape[1]} columns\")"
   ]
  },
  {
   "cell_type": "markdown",
   "metadata": {},
   "source": [
    "Inspecting the training data further"
   ]
  },
  {
   "cell_type": "code",
   "execution_count": 33,
   "metadata": {},
   "outputs": [
    {
     "data": {
      "text/html": [
       "<div>\n",
       "<style scoped>\n",
       "    .dataframe tbody tr th:only-of-type {\n",
       "        vertical-align: middle;\n",
       "    }\n",
       "\n",
       "    .dataframe tbody tr th {\n",
       "        vertical-align: top;\n",
       "    }\n",
       "\n",
       "    .dataframe thead th {\n",
       "        text-align: right;\n",
       "    }\n",
       "</style>\n",
       "<table border=\"1\" class=\"dataframe\">\n",
       "  <thead>\n",
       "    <tr style=\"text-align: right;\">\n",
       "      <th></th>\n",
       "      <th>id</th>\n",
       "      <th>date</th>\n",
       "      <th>store_nbr</th>\n",
       "      <th>family</th>\n",
       "      <th>sales</th>\n",
       "      <th>onpromotion</th>\n",
       "    </tr>\n",
       "  </thead>\n",
       "  <tbody>\n",
       "    <tr>\n",
       "      <th>0</th>\n",
       "      <td>0</td>\n",
       "      <td>2013-01-01</td>\n",
       "      <td>1</td>\n",
       "      <td>AUTOMOTIVE</td>\n",
       "      <td>0.0</td>\n",
       "      <td>0</td>\n",
       "    </tr>\n",
       "    <tr>\n",
       "      <th>1</th>\n",
       "      <td>1</td>\n",
       "      <td>2013-01-01</td>\n",
       "      <td>1</td>\n",
       "      <td>BABY CARE</td>\n",
       "      <td>0.0</td>\n",
       "      <td>0</td>\n",
       "    </tr>\n",
       "    <tr>\n",
       "      <th>2</th>\n",
       "      <td>2</td>\n",
       "      <td>2013-01-01</td>\n",
       "      <td>1</td>\n",
       "      <td>BEAUTY</td>\n",
       "      <td>0.0</td>\n",
       "      <td>0</td>\n",
       "    </tr>\n",
       "    <tr>\n",
       "      <th>3</th>\n",
       "      <td>3</td>\n",
       "      <td>2013-01-01</td>\n",
       "      <td>1</td>\n",
       "      <td>BEVERAGES</td>\n",
       "      <td>0.0</td>\n",
       "      <td>0</td>\n",
       "    </tr>\n",
       "    <tr>\n",
       "      <th>4</th>\n",
       "      <td>4</td>\n",
       "      <td>2013-01-01</td>\n",
       "      <td>1</td>\n",
       "      <td>BOOKS</td>\n",
       "      <td>0.0</td>\n",
       "      <td>0</td>\n",
       "    </tr>\n",
       "  </tbody>\n",
       "</table>\n",
       "</div>"
      ],
      "text/plain": [
       "   id        date  store_nbr      family  sales  onpromotion\n",
       "0   0  2013-01-01          1  AUTOMOTIVE    0.0            0\n",
       "1   1  2013-01-01          1   BABY CARE    0.0            0\n",
       "2   2  2013-01-01          1      BEAUTY    0.0            0\n",
       "3   3  2013-01-01          1   BEVERAGES    0.0            0\n",
       "4   4  2013-01-01          1       BOOKS    0.0            0"
      ]
     },
     "execution_count": 33,
     "metadata": {},
     "output_type": "execute_result"
    }
   ],
   "source": [
    "raw_df.head()"
   ]
  },
  {
   "cell_type": "markdown",
   "metadata": {},
   "source": [
    "The data has a date attribute this could be an indication of it being time series. One more condition to verify that we have a time series data for this use case is that the period attribute needs to be continuous. "
   ]
  },
  {
   "cell_type": "code",
   "execution_count": 34,
   "metadata": {},
   "outputs": [
    {
     "data": {
      "text/html": [
       "<div>\n",
       "<style scoped>\n",
       "    .dataframe tbody tr th:only-of-type {\n",
       "        vertical-align: middle;\n",
       "    }\n",
       "\n",
       "    .dataframe tbody tr th {\n",
       "        vertical-align: top;\n",
       "    }\n",
       "\n",
       "    .dataframe thead th {\n",
       "        text-align: right;\n",
       "    }\n",
       "</style>\n",
       "<table border=\"1\" class=\"dataframe\">\n",
       "  <thead>\n",
       "    <tr style=\"text-align: right;\">\n",
       "      <th></th>\n",
       "      <th>data_types</th>\n",
       "      <th>unique_values</th>\n",
       "      <th>missing_values</th>\n",
       "    </tr>\n",
       "  </thead>\n",
       "  <tbody>\n",
       "    <tr>\n",
       "      <th>id</th>\n",
       "      <td>int64</td>\n",
       "      <td>3000888</td>\n",
       "      <td>0</td>\n",
       "    </tr>\n",
       "    <tr>\n",
       "      <th>date</th>\n",
       "      <td>object</td>\n",
       "      <td>1684</td>\n",
       "      <td>0</td>\n",
       "    </tr>\n",
       "    <tr>\n",
       "      <th>store_nbr</th>\n",
       "      <td>int64</td>\n",
       "      <td>54</td>\n",
       "      <td>0</td>\n",
       "    </tr>\n",
       "    <tr>\n",
       "      <th>family</th>\n",
       "      <td>object</td>\n",
       "      <td>33</td>\n",
       "      <td>0</td>\n",
       "    </tr>\n",
       "    <tr>\n",
       "      <th>sales</th>\n",
       "      <td>float64</td>\n",
       "      <td>379610</td>\n",
       "      <td>0</td>\n",
       "    </tr>\n",
       "    <tr>\n",
       "      <th>onpromotion</th>\n",
       "      <td>int64</td>\n",
       "      <td>362</td>\n",
       "      <td>0</td>\n",
       "    </tr>\n",
       "  </tbody>\n",
       "</table>\n",
       "</div>"
      ],
      "text/plain": [
       "            data_types  unique_values  missing_values\n",
       "id               int64        3000888               0\n",
       "date            object           1684               0\n",
       "store_nbr        int64             54               0\n",
       "family          object             33               0\n",
       "sales          float64         379610               0\n",
       "onpromotion      int64            362               0"
      ]
     },
     "execution_count": 34,
     "metadata": {},
     "output_type": "execute_result"
    }
   ],
   "source": [
    "get_dataTypes_and_missingValues(raw_df)"
   ]
  },
  {
   "cell_type": "markdown",
   "metadata": {},
   "source": [
    "We have 2 observations so far:\n",
    "1. The date column contains more than one date, making it continuous in this example(note slight difference from continuous and decrete data) and validating that this is a <i>Time Series Data</i>\n",
    "2. The id column contains unique identifiers of each observation and can be removed."
   ]
  },
  {
   "cell_type": "code",
   "execution_count": 35,
   "metadata": {},
   "outputs": [
    {
     "name": "stdout",
     "output_type": "stream",
     "text": [
      "The data contains 3,000,888 rows and 5 columns\n"
     ]
    }
   ],
   "source": [
    "raw_df.drop(\"id\", axis=1, inplace=True)\n",
    "print(f\"The data contains {raw_df.shape[0]:,} rows and {raw_df.shape[1]} columns\")"
   ]
  },
  {
   "cell_type": "markdown",
   "metadata": {},
   "source": [
    "### Date"
   ]
  },
  {
   "cell_type": "code",
   "execution_count": 36,
   "metadata": {},
   "outputs": [
    {
     "name": "stdout",
     "output_type": "stream",
     "text": [
      "The sales data ranges from 2013-01-01 - 2017-08-15\n"
     ]
    }
   ],
   "source": [
    "print(f\"The sales data ranges from {min(raw_df['date'])} - {max(raw_df['date'])}\")"
   ]
  },
  {
   "cell_type": "markdown",
   "metadata": {},
   "source": [
    "The sales data spans 4+ years and contains over 3 million observations."
   ]
  },
  {
   "cell_type": "markdown",
   "metadata": {},
   "source": [
    "Let us group the data by quarter"
   ]
  },
  {
   "cell_type": "code",
   "execution_count": 37,
   "metadata": {},
   "outputs": [],
   "source": [
    "agg_sale_by_nbr = raw_df.groupby(\"store_nbr\").agg({\"sales\":\"sum\"})"
   ]
  },
  {
   "cell_type": "code",
   "execution_count": 38,
   "metadata": {},
   "outputs": [
    {
     "data": {
      "text/html": [
       "<div>\n",
       "<style scoped>\n",
       "    .dataframe tbody tr th:only-of-type {\n",
       "        vertical-align: middle;\n",
       "    }\n",
       "\n",
       "    .dataframe tbody tr th {\n",
       "        vertical-align: top;\n",
       "    }\n",
       "\n",
       "    .dataframe thead th {\n",
       "        text-align: right;\n",
       "    }\n",
       "</style>\n",
       "<table border=\"1\" class=\"dataframe\">\n",
       "  <thead>\n",
       "    <tr style=\"text-align: right;\">\n",
       "      <th></th>\n",
       "      <th>data_types</th>\n",
       "      <th>unique_values</th>\n",
       "      <th>missing_values</th>\n",
       "    </tr>\n",
       "  </thead>\n",
       "  <tbody>\n",
       "    <tr>\n",
       "      <th>date</th>\n",
       "      <td>object</td>\n",
       "      <td>1684</td>\n",
       "      <td>0</td>\n",
       "    </tr>\n",
       "    <tr>\n",
       "      <th>store_nbr</th>\n",
       "      <td>int64</td>\n",
       "      <td>1</td>\n",
       "      <td>0</td>\n",
       "    </tr>\n",
       "    <tr>\n",
       "      <th>family</th>\n",
       "      <td>object</td>\n",
       "      <td>33</td>\n",
       "      <td>0</td>\n",
       "    </tr>\n",
       "    <tr>\n",
       "      <th>sales</th>\n",
       "      <td>float64</td>\n",
       "      <td>13668</td>\n",
       "      <td>0</td>\n",
       "    </tr>\n",
       "    <tr>\n",
       "      <th>onpromotion</th>\n",
       "      <td>int64</td>\n",
       "      <td>155</td>\n",
       "      <td>0</td>\n",
       "    </tr>\n",
       "  </tbody>\n",
       "</table>\n",
       "</div>"
      ],
      "text/plain": [
       "            data_types  unique_values  missing_values\n",
       "date            object           1684               0\n",
       "store_nbr        int64              1               0\n",
       "family          object             33               0\n",
       "sales          float64          13668               0\n",
       "onpromotion      int64            155               0"
      ]
     },
     "execution_count": 38,
     "metadata": {},
     "output_type": "execute_result"
    }
   ],
   "source": [
    "store1_raw_df = raw_df[raw_df[\"store_nbr\"] == 1]\n",
    "get_dataTypes_and_missingValues(store1_raw_df)"
   ]
  },
  {
   "cell_type": "markdown",
   "metadata": {},
   "source": [
    "We need to convert the data to the appropriate date type and we can set the date as the index"
   ]
  },
  {
   "cell_type": "code",
   "execution_count": 39,
   "metadata": {},
   "outputs": [],
   "source": [
    "store1_raw_df.loc[:, \"date\"] = pd.to_datetime(store1_raw_df[\"date\"])\n",
    "store1_raw_df.set_index(\"date\", inplace=True)"
   ]
  },
  {
   "cell_type": "code",
   "execution_count": 40,
   "metadata": {},
   "outputs": [
    {
     "data": {
      "text/html": [
       "<div>\n",
       "<style scoped>\n",
       "    .dataframe tbody tr th:only-of-type {\n",
       "        vertical-align: middle;\n",
       "    }\n",
       "\n",
       "    .dataframe tbody tr th {\n",
       "        vertical-align: top;\n",
       "    }\n",
       "\n",
       "    .dataframe thead th {\n",
       "        text-align: right;\n",
       "    }\n",
       "</style>\n",
       "<table border=\"1\" class=\"dataframe\">\n",
       "  <thead>\n",
       "    <tr style=\"text-align: right;\">\n",
       "      <th></th>\n",
       "      <th>store_nbr</th>\n",
       "      <th>family</th>\n",
       "      <th>sales</th>\n",
       "      <th>onpromotion</th>\n",
       "    </tr>\n",
       "    <tr>\n",
       "      <th>date</th>\n",
       "      <th></th>\n",
       "      <th></th>\n",
       "      <th></th>\n",
       "      <th></th>\n",
       "    </tr>\n",
       "  </thead>\n",
       "  <tbody>\n",
       "    <tr>\n",
       "      <th>2013-01-01</th>\n",
       "      <td>1</td>\n",
       "      <td>AUTOMOTIVE</td>\n",
       "      <td>0.000000</td>\n",
       "      <td>0</td>\n",
       "    </tr>\n",
       "    <tr>\n",
       "      <th>2013-01-01</th>\n",
       "      <td>1</td>\n",
       "      <td>BABY CARE</td>\n",
       "      <td>0.000000</td>\n",
       "      <td>0</td>\n",
       "    </tr>\n",
       "    <tr>\n",
       "      <th>2013-01-01</th>\n",
       "      <td>1</td>\n",
       "      <td>BEAUTY</td>\n",
       "      <td>0.000000</td>\n",
       "      <td>0</td>\n",
       "    </tr>\n",
       "    <tr>\n",
       "      <th>2013-01-01</th>\n",
       "      <td>1</td>\n",
       "      <td>BEVERAGES</td>\n",
       "      <td>0.000000</td>\n",
       "      <td>0</td>\n",
       "    </tr>\n",
       "    <tr>\n",
       "      <th>2013-01-01</th>\n",
       "      <td>1</td>\n",
       "      <td>BOOKS</td>\n",
       "      <td>0.000000</td>\n",
       "      <td>0</td>\n",
       "    </tr>\n",
       "    <tr>\n",
       "      <th>...</th>\n",
       "      <td>...</td>\n",
       "      <td>...</td>\n",
       "      <td>...</td>\n",
       "      <td>...</td>\n",
       "    </tr>\n",
       "    <tr>\n",
       "      <th>2017-08-15</th>\n",
       "      <td>1</td>\n",
       "      <td>POULTRY</td>\n",
       "      <td>234.892000</td>\n",
       "      <td>0</td>\n",
       "    </tr>\n",
       "    <tr>\n",
       "      <th>2017-08-15</th>\n",
       "      <td>1</td>\n",
       "      <td>PREPARED FOODS</td>\n",
       "      <td>42.822998</td>\n",
       "      <td>0</td>\n",
       "    </tr>\n",
       "    <tr>\n",
       "      <th>2017-08-15</th>\n",
       "      <td>1</td>\n",
       "      <td>PRODUCE</td>\n",
       "      <td>2240.230000</td>\n",
       "      <td>7</td>\n",
       "    </tr>\n",
       "    <tr>\n",
       "      <th>2017-08-15</th>\n",
       "      <td>1</td>\n",
       "      <td>SCHOOL AND OFFICE SUPPLIES</td>\n",
       "      <td>0.000000</td>\n",
       "      <td>0</td>\n",
       "    </tr>\n",
       "    <tr>\n",
       "      <th>2017-08-15</th>\n",
       "      <td>1</td>\n",
       "      <td>SEAFOOD</td>\n",
       "      <td>22.487000</td>\n",
       "      <td>0</td>\n",
       "    </tr>\n",
       "  </tbody>\n",
       "</table>\n",
       "<p>55572 rows × 4 columns</p>\n",
       "</div>"
      ],
      "text/plain": [
       "            store_nbr                      family        sales  onpromotion\n",
       "date                                                                       \n",
       "2013-01-01          1                  AUTOMOTIVE     0.000000            0\n",
       "2013-01-01          1                   BABY CARE     0.000000            0\n",
       "2013-01-01          1                      BEAUTY     0.000000            0\n",
       "2013-01-01          1                   BEVERAGES     0.000000            0\n",
       "2013-01-01          1                       BOOKS     0.000000            0\n",
       "...               ...                         ...          ...          ...\n",
       "2017-08-15          1                     POULTRY   234.892000            0\n",
       "2017-08-15          1              PREPARED FOODS    42.822998            0\n",
       "2017-08-15          1                     PRODUCE  2240.230000            7\n",
       "2017-08-15          1  SCHOOL AND OFFICE SUPPLIES     0.000000            0\n",
       "2017-08-15          1                     SEAFOOD    22.487000            0\n",
       "\n",
       "[55572 rows x 4 columns]"
      ]
     },
     "execution_count": 40,
     "metadata": {},
     "output_type": "execute_result"
    }
   ],
   "source": [
    "store1_raw_df"
   ]
  },
  {
   "cell_type": "code",
   "execution_count": 41,
   "metadata": {},
   "outputs": [
    {
     "data": {
      "text/plain": [
       "date\n",
       "2013-12-31    1.894713e+06\n",
       "2014-12-31    2.899710e+06\n",
       "2015-12-31    3.120580e+06\n",
       "2016-12-31    3.793493e+06\n",
       "2017-12-31    2.436518e+06\n",
       "Freq: A-DEC, Name: sales, dtype: float64"
      ]
     },
     "execution_count": 41,
     "metadata": {},
     "output_type": "execute_result"
    }
   ],
   "source": [
    "agg_yearly_sales = store1_raw_df['sales'].resample('Y').sum()\n",
    "agg_yearly_sales"
   ]
  },
  {
   "cell_type": "code",
   "execution_count": 51,
   "metadata": {},
   "outputs": [
    {
     "name": "stderr",
     "output_type": "stream",
     "text": [
      "c:\\Users\\chiso\\anaconda3\\envs\\ml\\lib\\site-packages\\seaborn\\_oldcore.py:1119: FutureWarning: use_inf_as_na option is deprecated and will be removed in a future version. Convert inf values to NaN before operating instead.\n",
      "  with pd.option_context('mode.use_inf_as_na', True):\n",
      "c:\\Users\\chiso\\anaconda3\\envs\\ml\\lib\\site-packages\\seaborn\\_oldcore.py:1119: FutureWarning: use_inf_as_na option is deprecated and will be removed in a future version. Convert inf values to NaN before operating instead.\n",
      "  with pd.option_context('mode.use_inf_as_na', True):\n"
     ]
    },
    {
     "data": {
      "image/png": "[encoded data removed]",
      "text/plain": [
       "<Figure size 1200x600 with 1 Axes>"
      ]
     },
     "metadata": {},
     "output_type": "display_data"
    }
   ],
   "source": [
    "# Create a line plot with seaborn\n",
    "sns.set_style(\"whitegrid\")\n",
    "plt.figure(figsize=(12, 6))\n",
    "sns.lineplot(data=agg_yearly_sales)\n",
    "\n",
    "# Set x-axis ticks at each quarter\n",
    "quarters = pd.date_range(start=pd.Timestamp('2013-01'), end=agg_yearly_sales.index[-1], freq='Q')\n",
    "plt.xticks(ticks=quarters, labels=[f\"Q{1 + i%4}-{quarters[i].strftime('%Y')}\" for i in range(len(quarters))], rotation=45)\n",
    "\n",
    "# Set labels and title\n",
    "plt.xlabel('Year', fontsize=15)\n",
    "plt.ylabel('Aggregated Sales(in millions)', fontsize=15)\n",
    "plt.title('Aggregated Sales by Year per Quarter for Store 1', fontsize=20)\n",
    "\n",
    "# Show the plot\n",
    "plt.tight_layout()\n",
    "plt.show()"
   ]
  },
  {
   "cell_type": "code",
   "execution_count": 43,
   "metadata": {},
   "outputs": [
    {
     "data": {
      "text/html": [
       "<div>\n",
       "<style scoped>\n",
       "    .dataframe tbody tr th:only-of-type {\n",
       "        vertical-align: middle;\n",
       "    }\n",
       "\n",
       "    .dataframe tbody tr th {\n",
       "        vertical-align: top;\n",
       "    }\n",
       "\n",
       "    .dataframe thead th {\n",
       "        text-align: right;\n",
       "    }\n",
       "</style>\n",
       "<table border=\"1\" class=\"dataframe\">\n",
       "  <thead>\n",
       "    <tr style=\"text-align: right;\">\n",
       "      <th></th>\n",
       "      <th>store_nbr</th>\n",
       "      <th>family</th>\n",
       "      <th>sales</th>\n",
       "      <th>onpromotion</th>\n",
       "    </tr>\n",
       "    <tr>\n",
       "      <th>date</th>\n",
       "      <th></th>\n",
       "      <th></th>\n",
       "      <th></th>\n",
       "      <th></th>\n",
       "    </tr>\n",
       "  </thead>\n",
       "  <tbody>\n",
       "    <tr>\n",
       "      <th>2013-01-01</th>\n",
       "      <td>1</td>\n",
       "      <td>AUTOMOTIVE</td>\n",
       "      <td>0.000000</td>\n",
       "      <td>0</td>\n",
       "    </tr>\n",
       "    <tr>\n",
       "      <th>2013-01-01</th>\n",
       "      <td>1</td>\n",
       "      <td>BABY CARE</td>\n",
       "      <td>0.000000</td>\n",
       "      <td>0</td>\n",
       "    </tr>\n",
       "    <tr>\n",
       "      <th>2013-01-01</th>\n",
       "      <td>1</td>\n",
       "      <td>BEAUTY</td>\n",
       "      <td>0.000000</td>\n",
       "      <td>0</td>\n",
       "    </tr>\n",
       "    <tr>\n",
       "      <th>2013-01-01</th>\n",
       "      <td>1</td>\n",
       "      <td>BEVERAGES</td>\n",
       "      <td>0.000000</td>\n",
       "      <td>0</td>\n",
       "    </tr>\n",
       "    <tr>\n",
       "      <th>2013-01-01</th>\n",
       "      <td>1</td>\n",
       "      <td>BOOKS</td>\n",
       "      <td>0.000000</td>\n",
       "      <td>0</td>\n",
       "    </tr>\n",
       "    <tr>\n",
       "      <th>...</th>\n",
       "      <td>...</td>\n",
       "      <td>...</td>\n",
       "      <td>...</td>\n",
       "      <td>...</td>\n",
       "    </tr>\n",
       "    <tr>\n",
       "      <th>2017-08-15</th>\n",
       "      <td>1</td>\n",
       "      <td>POULTRY</td>\n",
       "      <td>234.892000</td>\n",
       "      <td>0</td>\n",
       "    </tr>\n",
       "    <tr>\n",
       "      <th>2017-08-15</th>\n",
       "      <td>1</td>\n",
       "      <td>PREPARED FOODS</td>\n",
       "      <td>42.822998</td>\n",
       "      <td>0</td>\n",
       "    </tr>\n",
       "    <tr>\n",
       "      <th>2017-08-15</th>\n",
       "      <td>1</td>\n",
       "      <td>PRODUCE</td>\n",
       "      <td>2240.230000</td>\n",
       "      <td>7</td>\n",
       "    </tr>\n",
       "    <tr>\n",
       "      <th>2017-08-15</th>\n",
       "      <td>1</td>\n",
       "      <td>SCHOOL AND OFFICE SUPPLIES</td>\n",
       "      <td>0.000000</td>\n",
       "      <td>0</td>\n",
       "    </tr>\n",
       "    <tr>\n",
       "      <th>2017-08-15</th>\n",
       "      <td>1</td>\n",
       "      <td>SEAFOOD</td>\n",
       "      <td>22.487000</td>\n",
       "      <td>0</td>\n",
       "    </tr>\n",
       "  </tbody>\n",
       "</table>\n",
       "<p>55572 rows × 4 columns</p>\n",
       "</div>"
      ],
      "text/plain": [
       "            store_nbr                      family        sales  onpromotion\n",
       "date                                                                       \n",
       "2013-01-01          1                  AUTOMOTIVE     0.000000            0\n",
       "2013-01-01          1                   BABY CARE     0.000000            0\n",
       "2013-01-01          1                      BEAUTY     0.000000            0\n",
       "2013-01-01          1                   BEVERAGES     0.000000            0\n",
       "2013-01-01          1                       BOOKS     0.000000            0\n",
       "...               ...                         ...          ...          ...\n",
       "2017-08-15          1                     POULTRY   234.892000            0\n",
       "2017-08-15          1              PREPARED FOODS    42.822998            0\n",
       "2017-08-15          1                     PRODUCE  2240.230000            7\n",
       "2017-08-15          1  SCHOOL AND OFFICE SUPPLIES     0.000000            0\n",
       "2017-08-15          1                     SEAFOOD    22.487000            0\n",
       "\n",
       "[55572 rows x 4 columns]"
      ]
     },
     "execution_count": 43,
     "metadata": {},
     "output_type": "execute_result"
    }
   ],
   "source": [
    "store1_raw_df"
   ]
  },
  {
   "cell_type": "markdown",
   "metadata": {},
   "source": [
    "We can take a look at the data on a yearly level. This would make it easier to visualize and not so generic that trends are not captured."
   ]
  },
  {
   "cell_type": "code",
   "execution_count": 47,
   "metadata": {},
   "outputs": [
    {
     "data": {
      "text/html": [
       "<div>\n",
       "<style scoped>\n",
       "    .dataframe tbody tr th:only-of-type {\n",
       "        vertical-align: middle;\n",
       "    }\n",
       "\n",
       "    .dataframe tbody tr th {\n",
       "        vertical-align: top;\n",
       "    }\n",
       "\n",
       "    .dataframe thead th {\n",
       "        text-align: right;\n",
       "    }\n",
       "</style>\n",
       "<table border=\"1\" class=\"dataframe\">\n",
       "  <thead>\n",
       "    <tr style=\"text-align: right;\">\n",
       "      <th></th>\n",
       "      <th>sales</th>\n",
       "    </tr>\n",
       "    <tr>\n",
       "      <th>date</th>\n",
       "      <th></th>\n",
       "    </tr>\n",
       "  </thead>\n",
       "  <tbody>\n",
       "    <tr>\n",
       "      <th>2013-01-01</th>\n",
       "      <td>0.000000</td>\n",
       "    </tr>\n",
       "    <tr>\n",
       "      <th>2013-01-02</th>\n",
       "      <td>7417.148000</td>\n",
       "    </tr>\n",
       "    <tr>\n",
       "      <th>2013-01-03</th>\n",
       "      <td>5873.244001</td>\n",
       "    </tr>\n",
       "    <tr>\n",
       "      <th>2013-01-04</th>\n",
       "      <td>5919.879001</td>\n",
       "    </tr>\n",
       "    <tr>\n",
       "      <th>2013-01-05</th>\n",
       "      <td>6318.785010</td>\n",
       "    </tr>\n",
       "    <tr>\n",
       "      <th>2013-01-06</th>\n",
       "      <td>2199.087000</td>\n",
       "    </tr>\n",
       "    <tr>\n",
       "      <th>2013-01-07</th>\n",
       "      <td>6150.924000</td>\n",
       "    </tr>\n",
       "    <tr>\n",
       "      <th>2013-01-08</th>\n",
       "      <td>5597.181000</td>\n",
       "    </tr>\n",
       "    <tr>\n",
       "      <th>2013-01-09</th>\n",
       "      <td>6808.578990</td>\n",
       "    </tr>\n",
       "    <tr>\n",
       "      <th>2013-01-10</th>\n",
       "      <td>4757.715000</td>\n",
       "    </tr>\n",
       "    <tr>\n",
       "      <th>2013-01-11</th>\n",
       "      <td>5494.015980</td>\n",
       "    </tr>\n",
       "    <tr>\n",
       "      <th>2013-01-12</th>\n",
       "      <td>5467.782980</td>\n",
       "    </tr>\n",
       "    <tr>\n",
       "      <th>2013-01-13</th>\n",
       "      <td>2693.878004</td>\n",
       "    </tr>\n",
       "    <tr>\n",
       "      <th>2013-01-14</th>\n",
       "      <td>5651.685010</td>\n",
       "    </tr>\n",
       "    <tr>\n",
       "      <th>2013-01-15</th>\n",
       "      <td>5204.174000</td>\n",
       "    </tr>\n",
       "    <tr>\n",
       "      <th>2013-01-16</th>\n",
       "      <td>6733.596002</td>\n",
       "    </tr>\n",
       "    <tr>\n",
       "      <th>2013-01-17</th>\n",
       "      <td>4942.474000</td>\n",
       "    </tr>\n",
       "    <tr>\n",
       "      <th>2013-01-18</th>\n",
       "      <td>5923.124001</td>\n",
       "    </tr>\n",
       "    <tr>\n",
       "      <th>2013-01-19</th>\n",
       "      <td>5895.146000</td>\n",
       "    </tr>\n",
       "    <tr>\n",
       "      <th>2013-01-20</th>\n",
       "      <td>2371.133995</td>\n",
       "    </tr>\n",
       "    <tr>\n",
       "      <th>2013-01-21</th>\n",
       "      <td>5227.602020</td>\n",
       "    </tr>\n",
       "    <tr>\n",
       "      <th>2013-01-22</th>\n",
       "      <td>5298.986000</td>\n",
       "    </tr>\n",
       "    <tr>\n",
       "      <th>2013-01-23</th>\n",
       "      <td>6259.346000</td>\n",
       "    </tr>\n",
       "    <tr>\n",
       "      <th>2013-01-24</th>\n",
       "      <td>4861.524000</td>\n",
       "    </tr>\n",
       "    <tr>\n",
       "      <th>2013-01-25</th>\n",
       "      <td>5577.701000</td>\n",
       "    </tr>\n",
       "    <tr>\n",
       "      <th>2013-01-26</th>\n",
       "      <td>5290.327010</td>\n",
       "    </tr>\n",
       "    <tr>\n",
       "      <th>2013-01-27</th>\n",
       "      <td>2439.378000</td>\n",
       "    </tr>\n",
       "    <tr>\n",
       "      <th>2013-01-28</th>\n",
       "      <td>4976.808000</td>\n",
       "    </tr>\n",
       "    <tr>\n",
       "      <th>2013-01-29</th>\n",
       "      <td>4681.511000</td>\n",
       "    </tr>\n",
       "    <tr>\n",
       "      <th>2013-01-30</th>\n",
       "      <td>6118.887000</td>\n",
       "    </tr>\n",
       "    <tr>\n",
       "      <th>2013-01-31</th>\n",
       "      <td>4712.577000</td>\n",
       "    </tr>\n",
       "  </tbody>\n",
       "</table>\n",
       "</div>"
      ],
      "text/plain": [
       "                  sales\n",
       "date                   \n",
       "2013-01-01     0.000000\n",
       "2013-01-02  7417.148000\n",
       "2013-01-03  5873.244001\n",
       "2013-01-04  5919.879001\n",
       "2013-01-05  6318.785010\n",
       "2013-01-06  2199.087000\n",
       "2013-01-07  6150.924000\n",
       "2013-01-08  5597.181000\n",
       "2013-01-09  6808.578990\n",
       "2013-01-10  4757.715000\n",
       "2013-01-11  5494.015980\n",
       "2013-01-12  5467.782980\n",
       "2013-01-13  2693.878004\n",
       "2013-01-14  5651.685010\n",
       "2013-01-15  5204.174000\n",
       "2013-01-16  6733.596002\n",
       "2013-01-17  4942.474000\n",
       "2013-01-18  5923.124001\n",
       "2013-01-19  5895.146000\n",
       "2013-01-20  2371.133995\n",
       "2013-01-21  5227.602020\n",
       "2013-01-22  5298.986000\n",
       "2013-01-23  6259.346000\n",
       "2013-01-24  4861.524000\n",
       "2013-01-25  5577.701000\n",
       "2013-01-26  5290.327010\n",
       "2013-01-27  2439.378000\n",
       "2013-01-28  4976.808000\n",
       "2013-01-29  4681.511000\n",
       "2013-01-30  6118.887000\n",
       "2013-01-31  4712.577000"
      ]
     },
     "execution_count": 47,
     "metadata": {},
     "output_type": "execute_result"
    }
   ],
   "source": [
    "jan_sales = store1_raw_df.loc[pd.Timestamp('2013-01'):pd.Timestamp('2013-01-31')]\n",
    "agg_jan_sales = jan_sales.groupby(\"date\").agg({\"sales\":\"sum\"})\n",
    "agg_jan_sales = agg_jan_sales.replace([np.inf, -np.inf], np.nan)\n",
    "agg_jan_sales"
   ]
  },
  {
   "cell_type": "code",
   "execution_count": 48,
   "metadata": {},
   "outputs": [
    {
     "data": {
      "image/png": "[encoded data removed]",
      "text/plain": [
       "<Figure size 640x480 with 1 Axes>"
      ]
     },
     "metadata": {},
     "output_type": "display_data"
    }
   ],
   "source": [
    "plt.plot(agg_jan_sales.index, agg_jan_sales[\"sales\"])\n",
    "\n",
    "plt.title('January 2013 Sales Trend', fontsize=20)\n",
    "plt.xlabel('Date', fontsize=15)\n",
    "plt.ylabel('Sales', fontsize=15)\n",
    "\n",
    "plt.xticks(rotation=45, fontsize=12)\n",
    "plt.tight_layout()\n",
    "plt.show()"
   ]
  },
  {
   "cell_type": "code",
   "execution_count": null,
   "metadata": {},
   "outputs": [],
   "source": []
  },
  {
   "cell_type": "code",
   "execution_count": 49,
   "metadata": {},
   "outputs": [
    {
     "name": "stderr",
     "output_type": "stream",
     "text": [
      "c:\\Users\\chiso\\anaconda3\\envs\\ml\\lib\\site-packages\\seaborn\\_oldcore.py:1119: FutureWarning: use_inf_as_na option is deprecated and will be removed in a future version. Convert inf values to NaN before operating instead.\n",
      "  with pd.option_context('mode.use_inf_as_na', True):\n",
      "c:\\Users\\chiso\\anaconda3\\envs\\ml\\lib\\site-packages\\seaborn\\_oldcore.py:1119: FutureWarning: use_inf_as_na option is deprecated and will be removed in a future version. Convert inf values to NaN before operating instead.\n",
      "  with pd.option_context('mode.use_inf_as_na', True):\n"
     ]
    },
    {
     "data": {
      "image/png": "[encoded data removed]",
      "text/plain": [
       "<Figure size 640x480 with 1 Axes>"
      ]
     },
     "metadata": {},
     "output_type": "display_data"
    }
   ],
   "source": [
    "sns.set_theme(style=\"whitegrid\")\n",
    "sns.set_context(\"talk\") # increase font\n",
    "\n",
    "sns.lineplot(x=agg_jan_sales.index, y=agg_jan_sales[\"sales\"], color=\"green\", linewidth=2)\n",
    "\n",
    "# Set labels and title\n",
    "plt.xlabel('Date', fontsize=15)\n",
    "plt.ylabel('Sales', fontsize=15)\n",
    "plt.title('Monthly Sales Trend', fontsize=20)\n",
    "\n",
    "plt.xticks(rotation=45, fontsize=12)\n",
    "plt.xlim(pd.Timestamp('2013-01'), pd.Timestamp('2013-01-31'))\n",
    "\n",
    "# Show the plot\n",
    "plt.tight_layout()\n",
    "plt.show()"
   ]
  },
  {
   "cell_type": "code",
   "execution_count": null,
   "metadata": {},
   "outputs": [],
   "source": []
  },
  {
   "cell_type": "markdown",
   "metadata": {},
   "source": [
    "### Store Number"
   ]
  },
  {
   "cell_type": "code",
   "execution_count": null,
   "metadata": {},
   "outputs": [],
   "source": []
  },
  {
   "cell_type": "markdown",
   "metadata": {},
   "source": [
    "### Family or Item Category"
   ]
  },
  {
   "cell_type": "code",
   "execution_count": null,
   "metadata": {},
   "outputs": [],
   "source": []
  },
  {
   "cell_type": "markdown",
   "metadata": {},
   "source": [
    "### Sales and Promotion"
   ]
  },
  {
   "cell_type": "code",
   "execution_count": null,
   "metadata": {},
   "outputs": [],
   "source": []
  },
  {
   "cell_type": "markdown",
   "metadata": {},
   "source": [
    "## Exploring The Data"
   ]
  },
  {
   "cell_type": "code",
   "execution_count": null,
   "metadata": {},
   "outputs": [],
   "source": []
  },
  {
   "cell_type": "markdown",
   "metadata": {},
   "source": []
  }
 ],
 "metadata": {
  "kernelspec": {
   "display_name": "ml",
   "language": "python",
   "name": "python3"
  },
  "language_info": {
   "codemirror_mode": {
    "name": "ipython",
    "version": 3
   },
   "file_extension": ".py",
   "mimetype": "text/x-python",
   "name": "python",
   "nbconvert_exporter": "python",
   "pygments_lexer": "ipython3",
   "version": "3.9.18"
  }
 },
 "nbformat": 4,
 "nbformat_minor": 2
}
